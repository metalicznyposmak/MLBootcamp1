{
  "nbformat": 4,
  "nbformat_minor": 0,
  "metadata": {
    "colab": {
      "provenance": [],
      "authorship_tag": "ABX9TyMDvFn1A07JdMcH89YHO0dF",
      "include_colab_link": true
    },
    "kernelspec": {
      "name": "python3",
      "display_name": "Python 3"
    },
    "language_info": {
      "name": "python"
    }
  },
  "cells": [
    {
      "cell_type": "markdown",
      "metadata": {
        "id": "view-in-github",
        "colab_type": "text"
      },
      "source": [
        "<a href=\"https://colab.research.google.com/github/metalicznyposmak/MLBootcamp1/blob/main/supervised/01_basics/03_feature_extraction.ipynb\" target=\"_parent\"><img src=\"https://colab.research.google.com/assets/colab-badge.svg\" alt=\"Open In Colab\"/></a>"
      ]
    },
    {
      "cell_type": "code",
      "execution_count": 1,
      "metadata": {
        "colab": {
          "base_uri": "https://localhost:8080/",
          "height": 35
        },
        "id": "eEzhdfJbUWoN",
        "outputId": "8087a9b1-a0ef-43e5-e42b-5fc6b4b76863"
      },
      "outputs": [
        {
          "output_type": "execute_result",
          "data": {
            "text/plain": [
              "'1.6.1'"
            ],
            "application/vnd.google.colaboratory.intrinsic+json": {
              "type": "string"
            }
          },
          "metadata": {},
          "execution_count": 1
        }
      ],
      "source": [
        "import numpy as np\n",
        "import pandas as pd\n",
        "import sklearn\n",
        "\n",
        "sklearn.__version__"
      ]
    },
    {
      "cell_type": "code",
      "source": [
        "def fetch_financial_data(company='AMZN'):\n",
        "  \"\"\"\n",
        "  This function fetches stock market quotations.\n",
        "  \"\"\"\n",
        "  import pandas_datareader.data as web\n",
        ""
      ],
      "metadata": {
        "id": "zaQB3Uk2Uf1m"
      },
      "execution_count": null,
      "outputs": []
    }
  ]
}